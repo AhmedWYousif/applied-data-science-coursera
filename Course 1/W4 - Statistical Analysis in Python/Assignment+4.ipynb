{
 "cells": [
  {
   "cell_type": "markdown",
   "metadata": {},
   "source": [
    "---\n",
    "\n",
    "_You are currently looking at **version 1.1** of this notebook. To download notebooks and datafiles, as well as get help on Jupyter notebooks in the Coursera platform, visit the [Jupyter Notebook FAQ](https://www.coursera.org/learn/python-data-analysis/resources/0dhYG) course resource._\n",
    "\n",
    "---"
   ]
  },
  {
   "cell_type": "code",
   "execution_count": 18,
   "metadata": {
    "collapsed": true
   },
   "outputs": [],
   "source": [
    "import pandas as pd\n",
    "import numpy as np\n",
    "from scipy.stats import ttest_ind"
   ]
  },
  {
   "cell_type": "markdown",
   "metadata": {},
   "source": [
    "# Assignment 4 - Hypothesis Testing\n",
    "This assignment requires more individual learning than previous assignments - you are encouraged to check out the [pandas documentation](http://pandas.pydata.org/pandas-docs/stable/) to find functions or methods you might not have used yet, or ask questions on [Stack Overflow](http://stackoverflow.com/) and tag them as pandas and python related. And of course, the discussion forums are open for interaction with your peers and the course staff.\n",
    "\n",
    "Definitions:\n",
    "* A _quarter_ is a specific three month period, Q1 is January through March, Q2 is April through June, Q3 is July through September, Q4 is October through December.\n",
    "* A _recession_ is defined as starting with two consecutive quarters of GDP decline, and ending with two consecutive quarters of GDP growth.\n",
    "* A _recession bottom_ is the quarter within a recession which had the lowest GDP.\n",
    "* A _university town_ is a city which has a high percentage of university students compared to the total population of the city.\n",
    "\n",
    "**Hypothesis**: University towns have their mean housing prices less effected by recessions. Run a t-test to compare the ratio of the mean price of houses in university towns the quarter before the recession starts compared to the recession bottom. (`price_ratio=quarter_before_recession/recession_bottom`)\n",
    "\n",
    "The following data files are available for this assignment:\n",
    "* From the [Zillow research data site](http://www.zillow.com/research/data/) there is housing data for the United States. In particular the datafile for [all homes at a city level](http://files.zillowstatic.com/research/public/City/City_Zhvi_AllHomes.csv), ```City_Zhvi_AllHomes.csv```, has median home sale prices at a fine grained level.\n",
    "* From the Wikipedia page on college towns is a list of [university towns in the United States](https://en.wikipedia.org/wiki/List_of_college_towns#College_towns_in_the_United_States) which has been copy and pasted into the file ```university_towns.txt```.\n",
    "* From Bureau of Economic Analysis, US Department of Commerce, the [GDP over time](http://www.bea.gov/national/index.htm#gdp) of the United States in current dollars (use the chained value in 2009 dollars), in quarterly intervals, in the file ```gdplev.xls```. For this assignment, only look at GDP data from the first quarter of 2000 onward.\n",
    "\n",
    "Each function in this assignment below is worth 10%, with the exception of ```run_ttest()```, which is worth 50%."
   ]
  },
  {
   "cell_type": "code",
   "execution_count": 19,
   "metadata": {
    "collapsed": true
   },
   "outputs": [],
   "source": [
    "# Use this dictionary to map state names to two letter acronyms\n",
    "states = {'OH': 'Ohio', 'KY': 'Kentucky', 'AS': 'American Samoa', 'NV': 'Nevada', 'WY': 'Wyoming', 'NA': 'National', 'AL': 'Alabama', 'MD': 'Maryland', 'AK': 'Alaska', 'UT': 'Utah', 'OR': 'Oregon', 'MT': 'Montana', 'IL': 'Illinois', 'TN': 'Tennessee', 'DC': 'District of Columbia', 'VT': 'Vermont', 'ID': 'Idaho', 'AR': 'Arkansas', 'ME': 'Maine', 'WA': 'Washington', 'HI': 'Hawaii', 'WI': 'Wisconsin', 'MI': 'Michigan', 'IN': 'Indiana', 'NJ': 'New Jersey', 'AZ': 'Arizona', 'GU': 'Guam', 'MS': 'Mississippi', 'PR': 'Puerto Rico', 'NC': 'North Carolina', 'TX': 'Texas', 'SD': 'South Dakota', 'MP': 'Northern Mariana Islands', 'IA': 'Iowa', 'MO': 'Missouri', 'CT': 'Connecticut', 'WV': 'West Virginia', 'SC': 'South Carolina', 'LA': 'Louisiana', 'KS': 'Kansas', 'NY': 'New York', 'NE': 'Nebraska', 'OK': 'Oklahoma', 'FL': 'Florida', 'CA': 'California', 'CO': 'Colorado', 'PA': 'Pennsylvania', 'DE': 'Delaware', 'NM': 'New Mexico', 'RI': 'Rhode Island', 'MN': 'Minnesota', 'VI': 'Virgin Islands', 'NH': 'New Hampshire', 'MA': 'Massachusetts', 'GA': 'Georgia', 'ND': 'North Dakota', 'VA': 'Virginia'}"
   ]
  },
  {
   "cell_type": "code",
   "execution_count": 20,
   "metadata": {
    "collapsed": true,
    "umich_part_id": "021",
    "umich_partlist_id": "004"
   },
   "outputs": [
    {
     "output_type": "execute_result",
     "data": {
      "text/plain": "         State     RegionName\n0      Alabama         Auburn\n1      Alabama       Florence\n2      Alabama   Jacksonville\n3      Alabama     Livingston\n4      Alabama     Montevallo\n..         ...            ...\n512  Wisconsin    River Falls\n513  Wisconsin  Stevens Point\n514  Wisconsin       Waukesha\n515  Wisconsin     Whitewater\n516    Wyoming        Laramie\n\n[517 rows x 2 columns]",
      "text/html": "<div>\n<style scoped>\n    .dataframe tbody tr th:only-of-type {\n        vertical-align: middle;\n    }\n\n    .dataframe tbody tr th {\n        vertical-align: top;\n    }\n\n    .dataframe thead th {\n        text-align: right;\n    }\n</style>\n<table border=\"1\" class=\"dataframe\">\n  <thead>\n    <tr style=\"text-align: right;\">\n      <th></th>\n      <th>State</th>\n      <th>RegionName</th>\n    </tr>\n  </thead>\n  <tbody>\n    <tr>\n      <td>0</td>\n      <td>Alabama</td>\n      <td>Auburn</td>\n    </tr>\n    <tr>\n      <td>1</td>\n      <td>Alabama</td>\n      <td>Florence</td>\n    </tr>\n    <tr>\n      <td>2</td>\n      <td>Alabama</td>\n      <td>Jacksonville</td>\n    </tr>\n    <tr>\n      <td>3</td>\n      <td>Alabama</td>\n      <td>Livingston</td>\n    </tr>\n    <tr>\n      <td>4</td>\n      <td>Alabama</td>\n      <td>Montevallo</td>\n    </tr>\n    <tr>\n      <td>...</td>\n      <td>...</td>\n      <td>...</td>\n    </tr>\n    <tr>\n      <td>512</td>\n      <td>Wisconsin</td>\n      <td>River Falls</td>\n    </tr>\n    <tr>\n      <td>513</td>\n      <td>Wisconsin</td>\n      <td>Stevens Point</td>\n    </tr>\n    <tr>\n      <td>514</td>\n      <td>Wisconsin</td>\n      <td>Waukesha</td>\n    </tr>\n    <tr>\n      <td>515</td>\n      <td>Wisconsin</td>\n      <td>Whitewater</td>\n    </tr>\n    <tr>\n      <td>516</td>\n      <td>Wyoming</td>\n      <td>Laramie</td>\n    </tr>\n  </tbody>\n</table>\n<p>517 rows × 2 columns</p>\n</div>"
     },
     "metadata": {},
     "execution_count": 20
    }
   ],
   "source": [
    "def get_list_of_university_towns():\n",
    "    '''Returns a DataFrame of towns and the states they are in from the \n",
    "    university_towns.txt list. The format of the DataFrame should be:\n",
    "    DataFrame( [ [\"Michigan\", \"Ann Arbor\"], [\"Michigan\", \"Yipsilanti\"] ], \n",
    "    columns=[\"State\", \"RegionName\"]  )\n",
    "    \n",
    "    The following cleaning needs to be done:\n",
    "\n",
    "    1. For \"State\", removing characters from \"[\" to the end.\n",
    "    2. For \"RegionName\", when applicable, removing every character from \" (\" to the end.\n",
    "    3. Depending on how you read the data, you may need to remove newline character '\\n'. '''\n",
    "    \n",
    "    university_towns = []\n",
    "    with open('university_towns.txt') as file:\n",
    "        for line in file:\n",
    "            if \"[edit]\" in line:\n",
    "                current_state = line.replace('[edit]\\n','').strip()\n",
    "            else:\n",
    "                region = line[0:line.find('(') ].strip()\n",
    "                university_towns.append((current_state, region))\n",
    "\n",
    "    towns_df = pd.DataFrame.from_records(university_towns,columns=['State' ,'RegionName'])\n",
    "#     new_states = dict([(value, key) for key, value in states.items()]) \n",
    "#     towns_df.replace({'State':new_states},inplace= True)\n",
    "    return towns_df\n",
    "\n",
    "get_list_of_university_towns()"
   ]
  },
  {
   "cell_type": "code",
   "execution_count": 21,
   "metadata": {
    "umich_part_id": "022",
    "umich_partlist_id": "004"
   },
   "outputs": [
    {
     "output_type": "execute_result",
     "data": {
      "text/plain": "'2008q3'"
     },
     "metadata": {},
     "execution_count": 21
    }
   ],
   "source": [
    "# Load GDP data\n",
    "def load_gdp_data():\n",
    "    ''' load GDP Data '''\n",
    "    df = pd.read_excel('gdplev.xls',skiprows=219,usecols=[4,5])\n",
    "    df = pd.concat([df.iloc[:,0],df.iloc[:,0].shift(3),df.iloc[:,0].shift(-2), df.iloc[:,1].shift(2),df.iloc[:,1].shift(1),df.iloc[:,1], df.iloc[:, 1].shift(-1), df.iloc[:, 1].shift(-2)], axis = 1)\n",
    "    df.columns = ['Quarter','start','end','GDP-2','GDP-1','GDP','GDP+1','GDP+2'] \n",
    "    \n",
    "    df['Dif1'] = df['GDP-1'] - df['GDP-2']\n",
    "    df['Dif2'] = df['GDP'] - df['GDP-1']\n",
    "    df['Dif3'] = df['GDP+1'] - df['GDP']\n",
    "    df['Dif4'] = df['GDP+2'] - df['GDP+1']\n",
    "    \n",
    "    df['is_recession'] = ((df['Dif1']<0) & (df['Dif2']<0) & (df['Dif3']>0) & (df['Dif4']>0))\n",
    "    \n",
    "    return df\n",
    "\n",
    "def get_recession_start():\n",
    "    ''' Returns the year and quarter of the recession start time as a \n",
    "    string value in a format such as 2005q3 '''\n",
    "    gdp = load_gdp_data()\n",
    "    startdate = gdp.loc[gdp['is_recession'],\"start\"].values[0]\n",
    "    return  startdate\n",
    "\n",
    "#load_gdp_data()\n",
    "get_recession_start()"
   ]
  },
  {
   "cell_type": "code",
   "execution_count": 22,
   "metadata": {
    "umich_part_id": "023",
    "umich_partlist_id": "004"
   },
   "outputs": [
    {
     "output_type": "execute_result",
     "data": {
      "text/plain": "'2009q4'"
     },
     "metadata": {},
     "execution_count": 22
    }
   ],
   "source": [
    "def get_recession_end():\n",
    "    '''Returns the year and quarter of the recession end time as a \n",
    "    string value in a format such as 2005q3'''\n",
    "    gdp = load_gdp_data()\n",
    "    startdate = gdp.loc[gdp['is_recession'],\"end\"].values[0]\n",
    "    return  startdate\n",
    "\n",
    "get_recession_end()"
   ]
  },
  {
   "cell_type": "code",
   "execution_count": 23,
   "metadata": {
    "umich_part_id": "024",
    "umich_partlist_id": "004"
   },
   "outputs": [
    {
     "output_type": "execute_result",
     "data": {
      "text/plain": "'2009q2'"
     },
     "metadata": {},
     "execution_count": 23
    }
   ],
   "source": [
    "def get_recession_bottom():\n",
    "    '''Returns the year and quarter of the recession bottom time as a \n",
    "    string value in a format such as 2005q3'''\n",
    "    gdp = load_gdp_data()\n",
    "    startdate = gdp.loc[gdp['is_recession'],\"Quarter\"].values[0]\n",
    "    return  startdate\n",
    "\n",
    "get_recession_bottom()"
   ]
  },
  {
   "cell_type": "code",
   "execution_count": 24,
   "metadata": {
    "umich_part_id": "025",
    "umich_partlist_id": "004"
   },
   "outputs": [
    {
     "output_type": "execute_result",
     "data": {
      "text/plain": "                            2000q1         2000q2         2000q3  \\\nState   RegionName                                                 \nAlabama Adamsville    69033.333333   69166.666667   69800.000000   \n        Alabaster    122133.333333  123066.666667  123166.666667   \n        Albertville   73966.666667   72600.000000   72833.333333   \n        Arab          83766.666667   81566.666667   81333.333333   \n        Ardmore                NaN            NaN            NaN   \n...                            ...            ...            ...   \nWyoming Burns        101533.333333  104566.666667  108366.666667   \n        Casper        89233.333333   89600.000000   89733.333333   \n        Cheyenne     116866.666667  120033.333333  121533.333333   \n        Evansville   128033.333333  128766.666667  130833.333333   \n        Pine Bluffs   93733.333333   95066.666667   94633.333333   \n\n                            2000q4         2001q1         2001q2  \\\nState   RegionName                                                 \nAlabama Adamsville    71966.666667   73466.666667   74000.000000   \n        Alabaster    123700.000000  123233.333333  125133.333333   \n        Albertville   74200.000000   75900.000000   76000.000000   \n        Arab          82966.666667   84200.000000   84533.333333   \n        Ardmore                NaN            NaN            NaN   \n...                            ...            ...            ...   \nWyoming Burns        113000.000000  115833.333333  117200.000000   \n        Casper        93166.666667   95500.000000   97633.333333   \n        Cheyenne     123633.333333  125533.333333  126300.000000   \n        Evansville   132066.666667  130566.666667  131433.333333   \n        Pine Bluffs   98066.666667  103233.333333  104600.000000   \n\n                            2001q3         2001q4         2002q1  \\\nState   RegionName                                                 \nAlabama Adamsville    73333.333333   73100.000000   73333.333333   \n        Alabaster    127766.666667  127200.000000  127300.000000   \n        Albertville   72066.666667   73566.666667   76533.333333   \n        Arab          81666.666667   83900.000000   87266.666667   \n        Ardmore                NaN            NaN            NaN   \n...                            ...            ...            ...   \nWyoming Burns        117800.000000  117633.333333  117333.333333   \n        Casper        99433.333333  100633.333333  101733.333333   \n        Cheyenne     126466.666667  128133.333333  128466.666667   \n        Evansville   132400.000000  133466.666667  133300.000000   \n        Pine Bluffs  106500.000000  104066.666667  102233.333333   \n\n                            2002q2  ...         2014q2         2014q3  \\\nState   RegionName                  ...                                 \nAlabama Adamsville    73133.333333  ...   77066.666667   75966.666667   \n        Alabaster    128000.000000  ...  147133.333333  147633.333333   \n        Albertville   76366.666667  ...   84033.333333   84766.666667   \n        Arab          87700.000000  ...  113366.666667  111700.000000   \n        Ardmore                NaN  ...  140533.333333  139566.666667   \n...                            ...  ...            ...            ...   \nWyoming Burns        117233.333333  ...  168866.666667  161933.333333   \n        Casper       101533.333333  ...  175766.666667  177300.000000   \n        Cheyenne     129633.333333  ...  177466.666667  176733.333333   \n        Evansville   131066.666667  ...  296733.333333  305666.666667   \n        Pine Bluffs  103566.666667  ...  148666.666667  154366.666667   \n\n                            2014q4         2015q1         2015q2  \\\nState   RegionName                                                 \nAlabama Adamsville    71900.000000   71666.666667   73033.333333   \n        Alabaster    148700.000000  148900.000000  149566.666667   \n        Albertville   86800.000000   88466.666667   89500.000000   \n        Arab         111600.000000  110166.666667  109433.333333   \n        Ardmore      140900.000000  143233.333333  143000.000000   \n...                            ...            ...            ...   \nWyoming Burns        160433.333333  162600.000000  163066.666667   \n        Casper       181000.000000  182066.666667  182633.333333   \n        Cheyenne     178766.666667  181700.000000  183266.666667   \n        Evansville   309500.000000  307300.000000  303166.666667   \n        Pine Bluffs  158100.000000  163900.000000  167433.333333   \n\n                            2015q3         2015q4         2016q1  \\\nState   RegionName                                                 \nAlabama Adamsville    73933.333333   73866.666667   74166.666667   \n        Alabaster    150366.666667  151733.333333  153466.666667   \n        Albertville   90233.333333   91366.666667   92000.000000   \n        Arab         110900.000000  112233.333333  110033.333333   \n        Ardmore      144600.000000  143966.666667  142566.666667   \n...                            ...            ...            ...   \nWyoming Burns        164600.000000  164300.000000  168266.666667   \n        Casper       183300.000000  182700.000000  184333.333333   \n        Cheyenne     186766.666667  190666.666667  194433.333333   \n        Evansville   300966.666667  304200.000000  309433.333333   \n        Pine Bluffs  167466.666667  169200.000000  166833.333333   \n\n                            2016q2    2016q3  \nState   RegionName                            \nAlabama Adamsville    74933.333333   74700.0  \n        Alabaster    155100.000000  155850.0  \n        Albertville   92466.666667   92200.0  \n        Arab         110100.000000  112000.0  \n        Ardmore      143233.333333  141950.0  \n...                            ...       ...  \nWyoming Burns        171600.000000  170500.0  \n        Casper       185166.666667  184350.0  \n        Cheyenne     196500.000000  199100.0  \n        Evansville   309200.000000  309050.0  \n        Pine Bluffs  163800.000000  157650.0  \n\n[10730 rows x 67 columns]",
      "text/html": "<div>\n<style scoped>\n    .dataframe tbody tr th:only-of-type {\n        vertical-align: middle;\n    }\n\n    .dataframe tbody tr th {\n        vertical-align: top;\n    }\n\n    .dataframe thead th {\n        text-align: right;\n    }\n</style>\n<table border=\"1\" class=\"dataframe\">\n  <thead>\n    <tr style=\"text-align: right;\">\n      <th></th>\n      <th></th>\n      <th>2000q1</th>\n      <th>2000q2</th>\n      <th>2000q3</th>\n      <th>2000q4</th>\n      <th>2001q1</th>\n      <th>2001q2</th>\n      <th>2001q3</th>\n      <th>2001q4</th>\n      <th>2002q1</th>\n      <th>2002q2</th>\n      <th>...</th>\n      <th>2014q2</th>\n      <th>2014q3</th>\n      <th>2014q4</th>\n      <th>2015q1</th>\n      <th>2015q2</th>\n      <th>2015q3</th>\n      <th>2015q4</th>\n      <th>2016q1</th>\n      <th>2016q2</th>\n      <th>2016q3</th>\n    </tr>\n    <tr>\n      <th>State</th>\n      <th>RegionName</th>\n      <th></th>\n      <th></th>\n      <th></th>\n      <th></th>\n      <th></th>\n      <th></th>\n      <th></th>\n      <th></th>\n      <th></th>\n      <th></th>\n      <th></th>\n      <th></th>\n      <th></th>\n      <th></th>\n      <th></th>\n      <th></th>\n      <th></th>\n      <th></th>\n      <th></th>\n      <th></th>\n      <th></th>\n    </tr>\n  </thead>\n  <tbody>\n    <tr>\n      <td rowspan=\"5\" valign=\"top\">Alabama</td>\n      <td>Adamsville</td>\n      <td>69033.333333</td>\n      <td>69166.666667</td>\n      <td>69800.000000</td>\n      <td>71966.666667</td>\n      <td>73466.666667</td>\n      <td>74000.000000</td>\n      <td>73333.333333</td>\n      <td>73100.000000</td>\n      <td>73333.333333</td>\n      <td>73133.333333</td>\n      <td>...</td>\n      <td>77066.666667</td>\n      <td>75966.666667</td>\n      <td>71900.000000</td>\n      <td>71666.666667</td>\n      <td>73033.333333</td>\n      <td>73933.333333</td>\n      <td>73866.666667</td>\n      <td>74166.666667</td>\n      <td>74933.333333</td>\n      <td>74700.0</td>\n    </tr>\n    <tr>\n      <td>Alabaster</td>\n      <td>122133.333333</td>\n      <td>123066.666667</td>\n      <td>123166.666667</td>\n      <td>123700.000000</td>\n      <td>123233.333333</td>\n      <td>125133.333333</td>\n      <td>127766.666667</td>\n      <td>127200.000000</td>\n      <td>127300.000000</td>\n      <td>128000.000000</td>\n      <td>...</td>\n      <td>147133.333333</td>\n      <td>147633.333333</td>\n      <td>148700.000000</td>\n      <td>148900.000000</td>\n      <td>149566.666667</td>\n      <td>150366.666667</td>\n      <td>151733.333333</td>\n      <td>153466.666667</td>\n      <td>155100.000000</td>\n      <td>155850.0</td>\n    </tr>\n    <tr>\n      <td>Albertville</td>\n      <td>73966.666667</td>\n      <td>72600.000000</td>\n      <td>72833.333333</td>\n      <td>74200.000000</td>\n      <td>75900.000000</td>\n      <td>76000.000000</td>\n      <td>72066.666667</td>\n      <td>73566.666667</td>\n      <td>76533.333333</td>\n      <td>76366.666667</td>\n      <td>...</td>\n      <td>84033.333333</td>\n      <td>84766.666667</td>\n      <td>86800.000000</td>\n      <td>88466.666667</td>\n      <td>89500.000000</td>\n      <td>90233.333333</td>\n      <td>91366.666667</td>\n      <td>92000.000000</td>\n      <td>92466.666667</td>\n      <td>92200.0</td>\n    </tr>\n    <tr>\n      <td>Arab</td>\n      <td>83766.666667</td>\n      <td>81566.666667</td>\n      <td>81333.333333</td>\n      <td>82966.666667</td>\n      <td>84200.000000</td>\n      <td>84533.333333</td>\n      <td>81666.666667</td>\n      <td>83900.000000</td>\n      <td>87266.666667</td>\n      <td>87700.000000</td>\n      <td>...</td>\n      <td>113366.666667</td>\n      <td>111700.000000</td>\n      <td>111600.000000</td>\n      <td>110166.666667</td>\n      <td>109433.333333</td>\n      <td>110900.000000</td>\n      <td>112233.333333</td>\n      <td>110033.333333</td>\n      <td>110100.000000</td>\n      <td>112000.0</td>\n    </tr>\n    <tr>\n      <td>Ardmore</td>\n      <td>NaN</td>\n      <td>NaN</td>\n      <td>NaN</td>\n      <td>NaN</td>\n      <td>NaN</td>\n      <td>NaN</td>\n      <td>NaN</td>\n      <td>NaN</td>\n      <td>NaN</td>\n      <td>NaN</td>\n      <td>...</td>\n      <td>140533.333333</td>\n      <td>139566.666667</td>\n      <td>140900.000000</td>\n      <td>143233.333333</td>\n      <td>143000.000000</td>\n      <td>144600.000000</td>\n      <td>143966.666667</td>\n      <td>142566.666667</td>\n      <td>143233.333333</td>\n      <td>141950.0</td>\n    </tr>\n    <tr>\n      <td>...</td>\n      <td>...</td>\n      <td>...</td>\n      <td>...</td>\n      <td>...</td>\n      <td>...</td>\n      <td>...</td>\n      <td>...</td>\n      <td>...</td>\n      <td>...</td>\n      <td>...</td>\n      <td>...</td>\n      <td>...</td>\n      <td>...</td>\n      <td>...</td>\n      <td>...</td>\n      <td>...</td>\n      <td>...</td>\n      <td>...</td>\n      <td>...</td>\n      <td>...</td>\n      <td>...</td>\n      <td>...</td>\n    </tr>\n    <tr>\n      <td rowspan=\"5\" valign=\"top\">Wyoming</td>\n      <td>Burns</td>\n      <td>101533.333333</td>\n      <td>104566.666667</td>\n      <td>108366.666667</td>\n      <td>113000.000000</td>\n      <td>115833.333333</td>\n      <td>117200.000000</td>\n      <td>117800.000000</td>\n      <td>117633.333333</td>\n      <td>117333.333333</td>\n      <td>117233.333333</td>\n      <td>...</td>\n      <td>168866.666667</td>\n      <td>161933.333333</td>\n      <td>160433.333333</td>\n      <td>162600.000000</td>\n      <td>163066.666667</td>\n      <td>164600.000000</td>\n      <td>164300.000000</td>\n      <td>168266.666667</td>\n      <td>171600.000000</td>\n      <td>170500.0</td>\n    </tr>\n    <tr>\n      <td>Casper</td>\n      <td>89233.333333</td>\n      <td>89600.000000</td>\n      <td>89733.333333</td>\n      <td>93166.666667</td>\n      <td>95500.000000</td>\n      <td>97633.333333</td>\n      <td>99433.333333</td>\n      <td>100633.333333</td>\n      <td>101733.333333</td>\n      <td>101533.333333</td>\n      <td>...</td>\n      <td>175766.666667</td>\n      <td>177300.000000</td>\n      <td>181000.000000</td>\n      <td>182066.666667</td>\n      <td>182633.333333</td>\n      <td>183300.000000</td>\n      <td>182700.000000</td>\n      <td>184333.333333</td>\n      <td>185166.666667</td>\n      <td>184350.0</td>\n    </tr>\n    <tr>\n      <td>Cheyenne</td>\n      <td>116866.666667</td>\n      <td>120033.333333</td>\n      <td>121533.333333</td>\n      <td>123633.333333</td>\n      <td>125533.333333</td>\n      <td>126300.000000</td>\n      <td>126466.666667</td>\n      <td>128133.333333</td>\n      <td>128466.666667</td>\n      <td>129633.333333</td>\n      <td>...</td>\n      <td>177466.666667</td>\n      <td>176733.333333</td>\n      <td>178766.666667</td>\n      <td>181700.000000</td>\n      <td>183266.666667</td>\n      <td>186766.666667</td>\n      <td>190666.666667</td>\n      <td>194433.333333</td>\n      <td>196500.000000</td>\n      <td>199100.0</td>\n    </tr>\n    <tr>\n      <td>Evansville</td>\n      <td>128033.333333</td>\n      <td>128766.666667</td>\n      <td>130833.333333</td>\n      <td>132066.666667</td>\n      <td>130566.666667</td>\n      <td>131433.333333</td>\n      <td>132400.000000</td>\n      <td>133466.666667</td>\n      <td>133300.000000</td>\n      <td>131066.666667</td>\n      <td>...</td>\n      <td>296733.333333</td>\n      <td>305666.666667</td>\n      <td>309500.000000</td>\n      <td>307300.000000</td>\n      <td>303166.666667</td>\n      <td>300966.666667</td>\n      <td>304200.000000</td>\n      <td>309433.333333</td>\n      <td>309200.000000</td>\n      <td>309050.0</td>\n    </tr>\n    <tr>\n      <td>Pine Bluffs</td>\n      <td>93733.333333</td>\n      <td>95066.666667</td>\n      <td>94633.333333</td>\n      <td>98066.666667</td>\n      <td>103233.333333</td>\n      <td>104600.000000</td>\n      <td>106500.000000</td>\n      <td>104066.666667</td>\n      <td>102233.333333</td>\n      <td>103566.666667</td>\n      <td>...</td>\n      <td>148666.666667</td>\n      <td>154366.666667</td>\n      <td>158100.000000</td>\n      <td>163900.000000</td>\n      <td>167433.333333</td>\n      <td>167466.666667</td>\n      <td>169200.000000</td>\n      <td>166833.333333</td>\n      <td>163800.000000</td>\n      <td>157650.0</td>\n    </tr>\n  </tbody>\n</table>\n<p>10730 rows × 67 columns</p>\n</div>"
     },
     "metadata": {},
     "execution_count": 24
    }
   ],
   "source": [
    "def convert_housing_data_to_quarters():\n",
    "    '''Converts the housing data to quarters and returns it as mean \n",
    "    values in a dataframe. This dataframe should be a dataframe with\n",
    "    columns for 2000q1 through 2016q3, and should have a multi-index\n",
    "    in the shape of [\"State\",\"RegionName\"].\n",
    "    \n",
    "    Note: Quarters are defined in the assignment description, they are\n",
    "    not arbitrary three month periods.\n",
    "    \n",
    "    The resulting dataframe should have 67 columns, and 10,730 rows.\n",
    "    '''\n",
    "    df = pd.read_csv('City_Zhvi_AllHomes.csv')\n",
    "    df['State'].replace(states, inplace= True)\n",
    "    df= df.set_index([\"State\",\"RegionName\"])\n",
    "    df = df.iloc[:,49:250]\n",
    "    df = df.groupby(lambda col: '{}q{}'.format(col[:4],-(-int(col[-2:])//3)), axis = 1).mean()    \n",
    "    df = df.sort_index()\n",
    "    \n",
    "    return df\n",
    "\n",
    "convert_housing_data_to_quarters()"
   ]
  },
  {
   "cell_type": "code",
   "execution_count": 25,
   "metadata": {
    "umich_part_id": "026",
    "umich_partlist_id": "004"
   },
   "outputs": [
    {
     "output_type": "execute_result",
     "data": {
      "text/plain": "(True, 0.004325214853511201, 'university town')"
     },
     "metadata": {},
     "execution_count": 25
    }
   ],
   "source": [
    "def run_ttest():\n",
    "    '''First creates new data showing the decline or growth of housing prices\n",
    "    between the recession start and the recession bottom. Then runs a ttest\n",
    "    comparing the university town values to the non-university towns values, \n",
    "    return whether the alternative hypothesis (that the two groups are the same)\n",
    "    is true or not as well as the p-value of the confidence. \n",
    "    \n",
    "    Return the tuple (different, p, better) where different=True if the t-test is\n",
    "    True at a p<0.01 (we reject the null hypothesis), or different=False if \n",
    "    otherwise (we cannot reject the null hypothesis). The variable p should\n",
    "    be equal to the exact p value returned from scipy.stats.ttest_ind(). The\n",
    "    value for better should be either \"university town\" or \"non-university town\"\n",
    "    depending on which has a lower mean price ratio (which is equivilent to a\n",
    "    reduced market loss).'''\n",
    "    \n",
    "    towns = get_list_of_university_towns()\n",
    "    startdate = get_recession_start()\n",
    "    bottomdate = get_recession_bottom()\n",
    "    houses = convert_housing_data_to_quarters()\n",
    "    houses = houses.reset_index()    \n",
    "    houses['recession_diff'] = houses[startdate] - houses[bottomdate]\n",
    "    \n",
    "    towns_houses = pd.merge(houses, towns, how='inner', on=['State', 'RegionName'])\n",
    "    towns_houses['ctown'] = True\n",
    "    houses = pd.merge(houses, towns_houses, how='outer', on = ['State', 'RegionName',bottomdate, startdate, 'recession_diff'])    \n",
    "    houses['ctown'] = houses['ctown'].fillna(False)\n",
    "    uni_towns = houses[houses['ctown'] == True]\n",
    "    not_uni_towns = houses[houses['ctown'] == False]\n",
    "    \n",
    "    t, p = ttest_ind(uni_towns['recession_diff'].dropna(), not_uni_towns['recession_diff'].dropna())\n",
    "    different = True if p < 0.01 else False\n",
    "    betters = \"university town\" if uni_towns['recession_diff'].mean() < not_uni_towns['recession_diff'].mean() else \"non-university town\"\n",
    "    \n",
    "    return different,p,betters\n",
    "\n",
    "run_ttest()"
   ]
  },
  {
   "cell_type": "code",
   "execution_count": null,
   "metadata": {
    "collapsed": true
   },
   "outputs": [],
   "source": []
  }
 ],
 "metadata": {
  "coursera": {
   "course_slug": "python-data-analysis",
   "graded_item_id": "Il9Fx",
   "launcher_item_id": "TeDW0",
   "part_id": "WGlun"
  },
  "kernelspec": {
   "display_name": "Python 3",
   "language": "python",
   "name": "python3"
  },
  "language_info": {
   "codemirror_mode": {
    "name": "ipython",
    "version": 3
   },
   "file_extension": ".py",
   "mimetype": "text/x-python",
   "name": "python",
   "nbconvert_exporter": "python",
   "pygments_lexer": "ipython3",
   "version": "3.7.4-final"
  },
  "umich": {
   "id": "Assignment 4",
   "version": "1.1"
  }
 },
 "nbformat": 4,
 "nbformat_minor": 1
}