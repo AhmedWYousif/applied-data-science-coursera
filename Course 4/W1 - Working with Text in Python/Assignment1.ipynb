{
 "cells": [
  {
   "cell_type": "markdown",
   "metadata": {},
   "source": [
    "---\n",
    "\n",
    "_You are currently looking at **version 1.1** of this notebook. To download notebooks and datafiles, as well as get help on Jupyter notebooks in the Coursera platform, visit the [Jupyter Notebook FAQ](https://www.coursera.org/learn/python-text-mining/resources/d9pwm) course resource._\n",
    "\n",
    "---"
   ]
  },
  {
   "cell_type": "markdown",
   "metadata": {},
   "source": [
    "# Assignment 1\n",
    "\n",
    "In this assignment, you'll be working with messy medical data and using regex to extract relevant infromation from the data. \n",
    "\n",
    "Each line of the `dates.txt` file corresponds to a medical note. Each note has a date that needs to be extracted, but each date is encoded in one of many formats.\n",
    "\n",
    "The goal of this assignment is to correctly identify all of the different date variants encoded in this dataset and to properly normalize and sort the dates. \n",
    "\n",
    "Here is a list of some of the variants you might encounter in this dataset:\n",
    "* 04/20/2009; 04/20/09; 4/20/09; 4/3/09\n",
    "* Mar-20-2009; Mar 20, 2009; March 20, 2009;  Mar. 20, 2009; Mar 20 2009;\n",
    "* 20 Mar 2009; 20 March 2009; 20 Mar. 2009; 20 March, 2009\n",
    "* Mar 20th, 2009; Mar 21st, 2009; Mar 22nd, 2009\n",
    "* Feb 2009; Sep 2009; Oct 2010\n",
    "* 6/2008; 12/2009\n",
    "* 2009; 2010\n",
    "\n",
    "Once you have extracted these date patterns from the text, the next step is to sort them in ascending chronological order accoring to the following rules:\n",
    "* Assume all dates in xx/xx/xx format are mm/dd/yy\n",
    "* Assume all dates where year is encoded in only two digits are years from the 1900's (e.g. 1/5/89 is January 5th, 1989)\n",
    "* If the day is missing (e.g. 9/2009), assume it is the first day of the month (e.g. September 1, 2009).\n",
    "* If the month is missing (e.g. 2010), assume it is the first of January of that year (e.g. January 1, 2010).\n",
    "* Watch out for potential typos as this is a raw, real-life derived dataset.\n",
    "\n",
    "With these rules in mind, find the correct date in each note and return a pandas Series in chronological order of the original Series' indices.\n",
    "\n",
    "For example if the original series was this:\n",
    "\n",
    "    0    1999\n",
    "    1    2010\n",
    "    2    1978\n",
    "    3    2015\n",
    "    4    1985\n",
    "\n",
    "Your function should return this:\n",
    "\n",
    "    0    2\n",
    "    1    4\n",
    "    2    0\n",
    "    3    1\n",
    "    4    3\n",
    "\n",
    "Your score will be calculated using [Kendall's tau](https://en.wikipedia.org/wiki/Kendall_rank_correlation_coefficient), a correlation measure for ordinal data.\n",
    "\n",
    "*This function should return a Series of length 500 and dtype int.*"
   ]
  },
  {
   "cell_type": "code",
   "execution_count": 1,
   "metadata": {},
   "outputs": [
    {
     "output_type": "execute_result",
     "data": {
      "text/plain": "0         03/25/93 Total time of visit (in minutes):\\n\n1                       6/18/85 Primary Care Doctor:\\n\n2    sshe plans to move as of 7/8/71 In-Home Servic...\n3                7 on 9/27/75 Audit C Score Current:\\n\n4    2/6/96 sleep studyPain Treatment Pain Level (N...\n5                    .Per 7/06/79 Movement D/O note:\\n\n6    4, 5/18/78 Patient's thoughts about current su...\n7    10/24/89 CPT Code: 90801 - Psychiatric Diagnos...\n8                         3/7/86 SOS-10 Total Score:\\n\n9             (4/10/71)Score-1Audit C Score Current:\\n\ndtype: object"
     },
     "metadata": {},
     "execution_count": 1
    }
   ],
   "source": [
    "import pandas as pd\n",
    "\n",
    "doc = []\n",
    "with open('dates.txt') as file:\n",
    "    for line in file:\n",
    "        doc.append(line)\n",
    "\n",
    "df = pd.Series(doc)\n",
    "\n",
    "df.head(10)\n",
    "\n"
   ]
  },
  {
   "cell_type": "code",
   "execution_count": 2,
   "metadata": {},
   "outputs": [
    {
     "output_type": "execute_result",
     "data": {
      "text/plain": "Int64Index([  9,  84,   2,  53,  28, 474, 153,  13, 129,  98,\n            ...\n            152, 235, 464, 253, 427, 231, 141, 186, 161, 413],\n           dtype='int64', length=500)"
     },
     "metadata": {},
     "execution_count": 2
    }
   ],
   "source": [
    "def date_sorter():\n",
    "    \n",
    "    month_name = '(?:Jan(?:uary)?|Feb(?:ruary)?|Mar(?:ch)?|Apr(?:il)?|May|Jun(?:e)?|Jul(?:y)?|Aug(?:ust)?|Sep(?:tember)?|Oct(?:ober)?|(?:Nov|Dec)(?:ember)?),?\\.?'\n",
    "    month_num = '(?:[1-9]|0[1-9]|1[0-2])'\n",
    "    day_num = '(?:0?[1-9]|1[0-9]|2[0-9]|3[0-1])(?:st|nd|th)?,?' \n",
    "\n",
    "    month_exp = fr'(?P<month>{month_num}|{month_name})' \n",
    "    day_exp = fr'(?P<day>{day_num})'\n",
    "    year_exp = '(?P<year>\\d{4}|\\d{2})'\n",
    "    year_4num = '(?P<year>\\d{4})'\n",
    "    sep_exp = '(?P<sep>\\/|-|\\s)'\n",
    "\n",
    "    exp_1 = fr'(?P<date>{month_exp}(?P<sep>\\/|-|\\s){day_exp}(?P=sep){year_exp})'\n",
    "    exp_2 = fr'(?P<date>{day_exp}(?P<sep>\\/|-|\\s){month_exp}(?P=sep){year_exp})'\n",
    "    exp_3 = fr'(?P<date>{month_name}\\s{year_4num})'\n",
    "    exp_4 = fr'(?P<date>{month_num}/{year_4num})'\n",
    "    exp_5 = fr'(?P<date>{year_4num})'\n",
    "\n",
    "    dates_1 = df.str.extract(exp_1, expand=False)\n",
    "    dates_2 = df.str.extract(exp_2, expand=False)\n",
    "    dates_3 = df.str.extract(exp_3, expand=False)\n",
    "    dates_4 = df.str.extract(exp_4, expand=False)\n",
    "    dates_5 = df.str.extract(exp_5, expand=False)\n",
    "\n",
    "    dates =  pd.to_datetime(dates_1['date'].fillna(dates_2['date']).fillna(dates_3['date']).fillna(dates_4['date']).fillna(dates_5['date']))\n",
    "    \n",
    "    return dates.sort_values().index\n",
    "#           \n",
    "date_sorter()"
   ]
  },
  {
   "cell_type": "code",
   "execution_count": null,
   "metadata": {
    "collapsed": true
   },
   "outputs": [],
   "source": []
  }
 ],
 "metadata": {
  "coursera": {
   "course_slug": "python-text-mining",
   "graded_item_id": "LvcWI",
   "launcher_item_id": "krne9",
   "part_id": "Mkp1I"
  },
  "kernelspec": {
   "display_name": "Python 3",
   "language": "python",
   "name": "python3"
  },
  "language_info": {
   "codemirror_mode": {
    "name": "ipython",
    "version": 3
   },
   "file_extension": ".py",
   "mimetype": "text/x-python",
   "name": "python",
   "nbconvert_exporter": "python",
   "pygments_lexer": "ipython3",
   "version": "3.7.4-final"
  }
 },
 "nbformat": 4,
 "nbformat_minor": 2
}